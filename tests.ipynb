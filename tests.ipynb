{
 "cells": [
  {
   "cell_type": "code",
   "execution_count": 1,
   "outputs": [
    {
     "name": "stderr",
     "output_type": "stream",
     "text": [
      "WARNING: No IPv4 address found on awdl0 !\n",
      "WARNING: No IPv4 address found on llw0 !\n",
      "WARNING: more No IPv4 address found on bridge0 !\n"
     ]
    }
   ],
   "source": [
    "from scapy.all import DNS, DNSQR, IP, sr1, UDP"
   ],
   "metadata": {
    "collapsed": false
   }
  },
  {
   "cell_type": "code",
   "execution_count": 4,
   "outputs": [
    {
     "name": "stdout",
     "output_type": "stream",
     "text": [
      "###[ IP ]### \n",
      "  version   = 4\n",
      "  ihl       = None\n",
      "  tos       = 0x0\n",
      "  len       = None\n",
      "  id        = 1\n",
      "  flags     = \n",
      "  frag      = 0\n",
      "  ttl       = 64\n",
      "  proto     = udp\n",
      "  chksum    = None\n",
      "  src       = 10.10.26.101\n",
      "  dst       = 8.8.8.8\n",
      "  \\options   \\\n",
      "###[ UDP ]### \n",
      "     sport     = domain\n",
      "     dport     = domain\n",
      "     len       = None\n",
      "     chksum    = None\n",
      "###[ DNS ]### \n",
      "        id        = 0\n",
      "        qr        = 0\n",
      "        opcode    = QUERY\n",
      "        aa        = 0\n",
      "        tc        = 0\n",
      "        rd        = 1\n",
      "        ra        = 0\n",
      "        z         = 0\n",
      "        ad        = 0\n",
      "        cd        = 0\n",
      "        rcode     = ok\n",
      "        qdcount   = 1\n",
      "        ancount   = 0\n",
      "        nscount   = 0\n",
      "        arcount   = 0\n",
      "        \\qd        \\\n",
      "         |###[ DNS Question Record ]### \n",
      "         |  qname     = 'www.example.com'\n",
      "         |  qtype     = A\n",
      "         |  qclass    = IN\n",
      "        an        = None\n",
      "        ns        = None\n",
      "        ar        = None\n",
      "\n",
      "None\n"
     ]
    }
   ],
   "source": [
    "\n",
    "\n",
    "dns_req = IP(dst='8.8.8.8')/UDP(dport=53)/DNS( rd=1,qd=DNSQR())\n",
    "print(dns_req.show())\n",
    "\n"
   ],
   "metadata": {
    "collapsed": false
   }
  },
  {
   "cell_type": "code",
   "execution_count": 6,
   "outputs": [
    {
     "ename": "Scapy_Exception",
     "evalue": "Permission denied: could not open /dev/bpf0. Make sure to be running Scapy as root ! (sudo)",
     "output_type": "error",
     "traceback": [
      "\u001B[0;31m---------------------------------------------------------------------------\u001B[0m",
      "\u001B[0;31mPermissionError\u001B[0m                           Traceback (most recent call last)",
      "File \u001B[0;32m/usr/local/lib/python3.9/site-packages/scapy/arch/bpf/core.py:136\u001B[0m, in \u001B[0;36mget_dev_bpf\u001B[0;34m()\u001B[0m\n\u001B[1;32m    135\u001B[0m \u001B[38;5;28;01mtry\u001B[39;00m:\n\u001B[0;32m--> 136\u001B[0m     fd \u001B[38;5;241m=\u001B[39m \u001B[43mos\u001B[49m\u001B[38;5;241;43m.\u001B[39;49m\u001B[43mopen\u001B[49m\u001B[43m(\u001B[49m\u001B[38;5;124;43m\"\u001B[39;49m\u001B[38;5;124;43m/dev/bpf\u001B[39;49m\u001B[38;5;132;43;01m%i\u001B[39;49;00m\u001B[38;5;124;43m\"\u001B[39;49m\u001B[43m \u001B[49m\u001B[38;5;241;43m%\u001B[39;49m\u001B[43m \u001B[49m\u001B[43mbpf\u001B[49m\u001B[43m,\u001B[49m\u001B[43m \u001B[49m\u001B[43mos\u001B[49m\u001B[38;5;241;43m.\u001B[39;49m\u001B[43mO_RDWR\u001B[49m\u001B[43m)\u001B[49m\n\u001B[1;32m    137\u001B[0m     \u001B[38;5;28;01mreturn\u001B[39;00m (fd, bpf)\n",
      "\u001B[0;31mPermissionError\u001B[0m: [Errno 13] Permission denied: '/dev/bpf0'",
      "\nDuring handling of the above exception, another exception occurred:\n",
      "\u001B[0;31mScapy_Exception\u001B[0m                           Traceback (most recent call last)",
      "Cell \u001B[0;32mIn[6], line 3\u001B[0m\n\u001B[1;32m      1\u001B[0m \u001B[38;5;28;01mfrom\u001B[39;00m \u001B[38;5;21;01mscapy\u001B[39;00m\u001B[38;5;21;01m.\u001B[39;00m\u001B[38;5;21;01mall\u001B[39;00m \u001B[38;5;28;01mimport\u001B[39;00m \u001B[38;5;241m*\u001B[39m\n\u001B[1;32m      2\u001B[0m dns_req \u001B[38;5;241m=\u001B[39m IP(dst\u001B[38;5;241m=\u001B[39m\u001B[38;5;124m'\u001B[39m\u001B[38;5;124m8.8.8.8\u001B[39m\u001B[38;5;124m'\u001B[39m)\u001B[38;5;241m/\u001B[39mUDP(dport\u001B[38;5;241m=\u001B[39m\u001B[38;5;241m53\u001B[39m)\u001B[38;5;241m/\u001B[39mDNS( rd\u001B[38;5;241m=\u001B[39m\u001B[38;5;241m1\u001B[39m,qd\u001B[38;5;241m=\u001B[39mDNSQR(qname\u001B[38;5;241m=\u001B[39m\u001B[38;5;124m\"\u001B[39m\u001B[38;5;124mwww.google.com\u001B[39m\u001B[38;5;124m\"\u001B[39m))\n\u001B[0;32m----> 3\u001B[0m rs \u001B[38;5;241m=\u001B[39m \u001B[43msr1\u001B[49m\u001B[43m(\u001B[49m\u001B[43mdns_req\u001B[49m\u001B[43m)\u001B[49m\n\u001B[1;32m      4\u001B[0m rs\u001B[38;5;241m.\u001B[39mshow()\n",
      "File \u001B[0;32m/usr/local/lib/python3.9/site-packages/scapy/sendrecv.py:648\u001B[0m, in \u001B[0;36msr1\u001B[0;34m(x, promisc, filter, iface, nofilter, *args, **kargs)\u001B[0m\n\u001B[1;32m    644\u001B[0m \u001B[38;5;124;03m\"\"\"\u001B[39;00m\n\u001B[1;32m    645\u001B[0m \u001B[38;5;124;03mSend packets at layer 3 and return only the first answer\u001B[39;00m\n\u001B[1;32m    646\u001B[0m \u001B[38;5;124;03m\"\"\"\u001B[39;00m\n\u001B[1;32m    647\u001B[0m iface \u001B[38;5;241m=\u001B[39m _interface_selection(iface, x)\n\u001B[0;32m--> 648\u001B[0m s \u001B[38;5;241m=\u001B[39m \u001B[43mconf\u001B[49m\u001B[38;5;241;43m.\u001B[39;49m\u001B[43mL3socket\u001B[49m\u001B[43m(\u001B[49m\u001B[43mpromisc\u001B[49m\u001B[38;5;241;43m=\u001B[39;49m\u001B[43mpromisc\u001B[49m\u001B[43m,\u001B[49m\u001B[43m \u001B[49m\u001B[38;5;28;43mfilter\u001B[39;49m\u001B[38;5;241;43m=\u001B[39;49m\u001B[38;5;28;43mfilter\u001B[39;49m\u001B[43m,\u001B[49m\n\u001B[1;32m    649\u001B[0m \u001B[43m                  \u001B[49m\u001B[43mnofilter\u001B[49m\u001B[38;5;241;43m=\u001B[39;49m\u001B[43mnofilter\u001B[49m\u001B[43m,\u001B[49m\u001B[43m \u001B[49m\u001B[43miface\u001B[49m\u001B[38;5;241;43m=\u001B[39;49m\u001B[43miface\u001B[49m\u001B[43m)\u001B[49m\n\u001B[1;32m    650\u001B[0m ans, _ \u001B[38;5;241m=\u001B[39m sndrcv(s, x, \u001B[38;5;241m*\u001B[39margs, \u001B[38;5;241m*\u001B[39m\u001B[38;5;241m*\u001B[39mkargs)\n\u001B[1;32m    651\u001B[0m s\u001B[38;5;241m.\u001B[39mclose()\n",
      "File \u001B[0;32m/usr/local/lib/python3.9/site-packages/scapy/arch/bpf/supersocket.py:254\u001B[0m, in \u001B[0;36mL2bpfListenSocket.__init__\u001B[0;34m(self, *args, **kwargs)\u001B[0m\n\u001B[1;32m    252\u001B[0m \u001B[38;5;28;01mdef\u001B[39;00m \u001B[38;5;21m__init__\u001B[39m(\u001B[38;5;28mself\u001B[39m, \u001B[38;5;241m*\u001B[39margs, \u001B[38;5;241m*\u001B[39m\u001B[38;5;241m*\u001B[39mkwargs):\n\u001B[1;32m    253\u001B[0m     \u001B[38;5;28mself\u001B[39m\u001B[38;5;241m.\u001B[39mreceived_frames \u001B[38;5;241m=\u001B[39m []\n\u001B[0;32m--> 254\u001B[0m     \u001B[38;5;28;43msuper\u001B[39;49m\u001B[43m(\u001B[49m\u001B[43mL2bpfListenSocket\u001B[49m\u001B[43m,\u001B[49m\u001B[43m \u001B[49m\u001B[38;5;28;43mself\u001B[39;49m\u001B[43m)\u001B[49m\u001B[38;5;241;43m.\u001B[39;49m\u001B[38;5;21;43m__init__\u001B[39;49m\u001B[43m(\u001B[49m\u001B[38;5;241;43m*\u001B[39;49m\u001B[43margs\u001B[49m\u001B[43m,\u001B[49m\u001B[43m \u001B[49m\u001B[38;5;241;43m*\u001B[39;49m\u001B[38;5;241;43m*\u001B[39;49m\u001B[43mkwargs\u001B[49m\u001B[43m)\u001B[49m\n",
      "File \u001B[0;32m/usr/local/lib/python3.9/site-packages/scapy/arch/bpf/supersocket.py:62\u001B[0m, in \u001B[0;36m_L2bpfSocket.__init__\u001B[0;34m(self, iface, type, promisc, filter, nofilter, monitor)\u001B[0m\n\u001B[1;32m     60\u001B[0m \u001B[38;5;66;03m# Get the BPF handle\u001B[39;00m\n\u001B[1;32m     61\u001B[0m \u001B[38;5;28mself\u001B[39m\u001B[38;5;241m.\u001B[39mins \u001B[38;5;241m=\u001B[39m \u001B[38;5;28;01mNone\u001B[39;00m\n\u001B[0;32m---> 62\u001B[0m (\u001B[38;5;28mself\u001B[39m\u001B[38;5;241m.\u001B[39mins, \u001B[38;5;28mself\u001B[39m\u001B[38;5;241m.\u001B[39mdev_bpf) \u001B[38;5;241m=\u001B[39m \u001B[43mget_dev_bpf\u001B[49m\u001B[43m(\u001B[49m\u001B[43m)\u001B[49m\n\u001B[1;32m     63\u001B[0m \u001B[38;5;28mself\u001B[39m\u001B[38;5;241m.\u001B[39mouts \u001B[38;5;241m=\u001B[39m \u001B[38;5;28mself\u001B[39m\u001B[38;5;241m.\u001B[39mins\n\u001B[1;32m     65\u001B[0m \u001B[38;5;66;03m# Set the BPF buffer length\u001B[39;00m\n",
      "File \u001B[0;32m/usr/local/lib/python3.9/site-packages/scapy/arch/bpf/core.py:140\u001B[0m, in \u001B[0;36mget_dev_bpf\u001B[0;34m()\u001B[0m\n\u001B[1;32m    138\u001B[0m     \u001B[38;5;28;01mexcept\u001B[39;00m \u001B[38;5;167;01mOSError\u001B[39;00m \u001B[38;5;28;01mas\u001B[39;00m ex:\n\u001B[1;32m    139\u001B[0m         \u001B[38;5;28;01mif\u001B[39;00m ex\u001B[38;5;241m.\u001B[39merrno \u001B[38;5;241m==\u001B[39m \u001B[38;5;241m13\u001B[39m:  \u001B[38;5;66;03m# Permission denied\u001B[39;00m\n\u001B[0;32m--> 140\u001B[0m             \u001B[38;5;28;01mraise\u001B[39;00m Scapy_Exception((\n\u001B[1;32m    141\u001B[0m                 \u001B[38;5;124m\"\u001B[39m\u001B[38;5;124mPermission denied: could not open /dev/bpf\u001B[39m\u001B[38;5;132;01m%i\u001B[39;00m\u001B[38;5;124m. \u001B[39m\u001B[38;5;124m\"\u001B[39m\n\u001B[1;32m    142\u001B[0m                 \u001B[38;5;124m\"\u001B[39m\u001B[38;5;124mMake sure to be running Scapy as root ! (sudo)\u001B[39m\u001B[38;5;124m\"\u001B[39m\n\u001B[1;32m    143\u001B[0m             ) \u001B[38;5;241m%\u001B[39m bpf)\n\u001B[1;32m    144\u001B[0m         \u001B[38;5;28;01mcontinue\u001B[39;00m\n\u001B[1;32m    146\u001B[0m \u001B[38;5;28;01mraise\u001B[39;00m Scapy_Exception(\u001B[38;5;124m\"\u001B[39m\u001B[38;5;124mNo /dev/bpf handle is available !\u001B[39m\u001B[38;5;124m\"\u001B[39m)\n",
      "\u001B[0;31mScapy_Exception\u001B[0m: Permission denied: could not open /dev/bpf0. Make sure to be running Scapy as root ! (sudo)"
     ]
    }
   ],
   "source": [
    "from scapy.all import *\n",
    "dns_req = IP(dst='8.8.8.8')/UDP(dport=53)/DNS( rd=1,qd=DNSQR(qname=\"www.google.com\"))\n",
    "rs = sr1(dns_req)\n",
    "rs.show()"
   ],
   "metadata": {
    "collapsed": false
   }
  },
  {
   "cell_type": "code",
   "execution_count": null,
   "outputs": [],
   "source": [],
   "metadata": {
    "collapsed": false
   }
  }
 ],
 "metadata": {
  "kernelspec": {
   "display_name": "Python 3",
   "language": "python",
   "name": "python3"
  },
  "language_info": {
   "codemirror_mode": {
    "name": "ipython",
    "version": 2
   },
   "file_extension": ".py",
   "mimetype": "text/x-python",
   "name": "python",
   "nbconvert_exporter": "python",
   "pygments_lexer": "ipython2",
   "version": "2.7.6"
  }
 },
 "nbformat": 4,
 "nbformat_minor": 0
}
